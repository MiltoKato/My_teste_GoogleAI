{
  "nbformat": 4,
  "nbformat_minor": 0,
  "metadata": {
    "colab": {
      "provenance": [],
      "authorship_tag": "ABX9TyM2Y/tx242XyVD40bCu6aVA",
      "include_colab_link": true
    },
    "kernelspec": {
      "name": "python3",
      "display_name": "Python 3"
    },
    "language_info": {
      "name": "python"
    }
  },
  "cells": [
    {
      "cell_type": "markdown",
      "metadata": {
        "id": "view-in-github",
        "colab_type": "text"
      },
      "source": [
        "<a href=\"https://colab.research.google.com/github/MiltoKato/My_teste_GoogleAI/blob/main/Untitled3.ipynb\" target=\"_parent\"><img src=\"https://colab.research.google.com/assets/colab-badge.svg\" alt=\"Open In Colab\"/></a>"
      ]
    },
    {
      "cell_type": "code",
      "execution_count": 1,
      "metadata": {
        "id": "owTKsT9Gc8R8"
      },
      "outputs": [],
      "source": [
        "pip install -q -U google-generativeai"
      ]
    },
    {
      "cell_type": "code",
      "source": [
        "import google.generativeai as genai\n",
        "from google.colab import userdata\n",
        "api_key = userdata.get('SECRET KEY')\n",
        "GOOGLE_API_KEY=\"api_key\"\n",
        "genai.configure(api_key=GOOGLE_API_KEY)"
      ],
      "metadata": {
        "id": "TJpFYSPXdWVK"
      },
      "execution_count": 8,
      "outputs": []
    },
    {
      "cell_type": "markdown",
      "source": [
        "Listar os modelos disponiveis"
      ],
      "metadata": {
        "id": "63dXCz_vfF0h"
      }
    },
    {
      "cell_type": "code",
      "source": [
        "for m in genai.list_models():\n",
        "  if 'generateContent' in m.supported_generation_methods:\n",
        "    print(m.name)"
      ],
      "metadata": {
        "colab": {
          "base_uri": "https://localhost:8080/",
          "height": 139
        },
        "id": "tKzQPQ6hfNGJ",
        "outputId": "a1cb23b3-ec31-445e-c196-9a181b914e93"
      },
      "execution_count": 9,
      "outputs": [
        {
          "output_type": "stream",
          "name": "stdout",
          "text": [
            "models/gemini-1.0-pro\n",
            "models/gemini-1.0-pro-001\n",
            "models/gemini-1.0-pro-latest\n",
            "models/gemini-1.0-pro-vision-latest\n",
            "models/gemini-1.5-pro-latest\n",
            "models/gemini-pro\n",
            "models/gemini-pro-vision\n"
          ]
        }
      ]
    },
    {
      "cell_type": "code",
      "source": [
        "generation_config = {\n",
        "    \"candidate_count\":1,\n",
        "    \"temperature\": 0.5,\n",
        "}"
      ],
      "metadata": {
        "id": "Dh6TM_EKhfTR"
      },
      "execution_count": 10,
      "outputs": []
    },
    {
      "cell_type": "markdown",
      "source": [
        "Inicializando o modelo"
      ],
      "metadata": {
        "id": "SBb_aJhGjyYH"
      }
    },
    {
      "cell_type": "code",
      "source": [
        "model =genai.GenerativeModel(model_name=\"gemini-1.0-pro\",\n",
        "                            generation_config=generation_config,\n",
        "                            )"
      ],
      "metadata": {
        "id": "o0egsSV-j3uv"
      },
      "execution_count": 11,
      "outputs": []
    },
    {
      "cell_type": "code",
      "source": [
        "response = model.generate_content(\"Vamos aprender conteúdo sobre IA. Me dê sugestões.\")\n",
        "print(response.text)"
      ],
      "metadata": {
        "colab": {
          "base_uri": "https://localhost:8080/",
          "height": 642
        },
        "id": "ZcGLMkJGil5Q",
        "outputId": "4ebab2d1-2212-4858-dde9-7a188774be28"
      },
      "execution_count": 12,
      "outputs": [
        {
          "output_type": "stream",
          "name": "stdout",
          "text": [
            "**Introdução à IA**\n",
            "\n",
            "* Definição e princípios da IA\n",
            "* Tipos de IA (por exemplo, aprendizado de máquina, aprendizado profundo, processamento de linguagem natural)\n",
            "* Aplicações da IA em vários setores\n",
            "\n",
            "**Aprendizado de Máquina**\n",
            "\n",
            "* Algoritmos de aprendizado de máquina (por exemplo, regressão, classificação, agrupamento)\n",
            "* Conjuntos de dados e preparação de dados\n",
            "* Avaliação de modelos de aprendizado de máquina\n",
            "\n",
            "**Aprendizado Profundo**\n",
            "\n",
            "* Redes neurais e arquitetura de aprendizado profundo\n",
            "* Treinamento e otimização de redes neurais\n",
            "* Aplicações do aprendizado profundo (por exemplo, visão computacional, processamento de linguagem natural)\n",
            "\n",
            "**Processamento de Linguagem Natural**\n",
            "\n",
            "* Técnicas de processamento de texto (por exemplo, tokenização, análise sintática)\n",
            "* Modelos de linguagem e geração de texto\n",
            "* Aplicações de processamento de linguagem natural (por exemplo, chatbots, tradução automática)\n",
            "\n",
            "**Ética e Implicações da IA**\n",
            "\n",
            "* Viés e discriminação em sistemas de IA\n",
            "* Privacidade e segurança de dados\n",
            "* Impacto social e econômico da IA\n",
            "\n",
            "**Recursos de Aprendizado**\n",
            "\n",
            "* **Cursos Online:** Coursera, edX, Udacity\n",
            "* **Livros:** \"Inteligência Artificial: Uma Abordagem Moderna\" (Stuart Russell e Peter Norvig), \"Aprendizado de Máquina\" (Tom Mitchell)\n",
            "* **Tutoriais:** TensorFlow, PyTorch, Scikit-learn\n",
            "* **Comunidades Online:** Stack Overflow, Reddit (r/MachineLearning, r/ArtificialIntelligence)\n"
          ]
        }
      ]
    },
    {
      "cell_type": "code",
      "source": [
        "chat = model.start_chat(history=[])"
      ],
      "metadata": {
        "id": "at2O8Fhkdko5"
      },
      "execution_count": 13,
      "outputs": []
    },
    {
      "cell_type": "code",
      "source": [
        "prompt = input(\"Esperando prompt: \")\n",
        "while prompt != \"fim\":\n",
        "  response = chat.send_message(prompt)\n",
        "  print(\"Resposta: \", response.text, \"\\n\")\n",
        "  prompt = input(\"Esperando prompt:\")"
      ],
      "metadata": {
        "colab": {
          "base_uri": "https://localhost:8080/",
          "height": 1000
        },
        "id": "i0lDfz4QmYBs",
        "outputId": "fc10406f-2c27-4da4-904e-3e60f22a08b4"
      },
      "execution_count": 17,
      "outputs": [
        {
          "name": "stdout",
          "output_type": "stream",
          "text": [
            "Esperando prompt: Qual a capitald o Japão?\n",
            "Resposta:  Tóquio \n",
            "\n",
            "Esperando prompt:Qual a cultura desse pais?\n",
            "Resposta:  **Cultura Japonesa**\n",
            "\n",
            "A cultura japonesa é uma das mais ricas e fascinantes do mundo, com uma história milenar que influenciou profundamente a arte, a literatura, a música, a culinária e os costumes do país. Algumas das características mais marcantes da cultura japonesa incluem:\n",
            "\n",
            "**Harmonia e Beleza:**\n",
            "* Os japoneses valorizam a harmonia e a estética em todas as esferas da vida, desde a arquitetura até a culinária.\n",
            "* Conceitos como \"wabi-sabi\" (beleza na imperfeição) e \"mono no aware\" (a beleza da transitoriedade) são fundamentais na cultura japonesa.\n",
            "\n",
            "**Respeito e Hierarquia:**\n",
            "* A sociedade japonesa é altamente hierárquica, com um forte senso de respeito por aqueles que estão acima na escala social.\n",
            "* Os títulos e as formas de tratamento são usados para indicar o status e a posição das pessoas.\n",
            "\n",
            "**Tradição e Modernidade:**\n",
            "* O Japão conseguiu preservar muitas de suas tradições culturais enquanto abraçava a modernidade.\n",
            "* Templos e santuários antigos coexistem com arranha-céus e tecnologia de ponta.\n",
            "\n",
            "**Arte e Artesanato:**\n",
            "* O Japão é conhecido por suas formas de arte tradicionais, como pintura, caligrafia, cerâmica e arranjos florais (ikebana).\n",
            "* Artesãos japoneses são altamente qualificados e produzem obras de arte requintadas que são apreciadas em todo o mundo.\n",
            "\n",
            "**Culinária:**\n",
            "* A culinária japonesa é uma das mais diversas e deliciosas do mundo.\n",
            "* Ingredientes frescos, técnicas de cozimento precisas e uma apresentação artística são características da culinária japonesa.\n",
            "* Sushi, sashimi, tempura e ramen são alguns dos pratos japoneses mais populares.\n",
            "\n",
            "**Religião:**\n",
            "* A maioria dos japoneses pratica uma mistura de xintoísmo e budismo.\n",
            "* O xintoísmo é uma religião animista que reverencia os espíritos da natureza, enquanto o budismo é uma filosofia que enfatiza a compaixão e a iluminação.\n",
            "\n",
            "**Hospitalidade e Cortesia:**\n",
            "* Os japoneses são conhecidos por sua hospitalidade e cortesia.\n",
            "* Eles se esforçam para criar um ambiente acolhedor e respeitoso para os visitantes e convidados.\n",
            "\n",
            "**Outras Características:**\n",
            "* **Disciplina e Trabalho Duro:** Os japoneses são conhecidos por sua disciplina e ética de trabalho.\n",
            "* **Senso de Comunidade:** Os japoneses valorizam o senso de comunidade e trabalham juntos para o bem comum.\n",
            "* **Amor pela Natureza:** Os japoneses têm um profundo amor pela natureza e muitas de suas tradições culturais estão ligadas a ela. \n",
            "\n",
            "Esperando prompt:Qual a comida tipica desse pais?\n",
            "Resposta:  **Comida Típica Japonesa**\n",
            "\n",
            "A culinária japonesa é uma das mais diversas e deliciosas do mundo, com uma ampla gama de pratos que vão desde frutos do mar frescos até pratos de carne e vegetais. Alguns dos pratos japoneses mais típicos incluem:\n",
            "\n",
            "* **Sushi:** Arroz avinagrado coberto com peixe cru, frutos do mar ou vegetais.\n",
            "* **Sashimi:** Peixe cru ou frutos do mar fatiados e servidos com molho de soja e wasabi.\n",
            "* **Tempura:** Frutos do mar ou vegetais fritos em uma massa leve.\n",
            "* **Ramen:** Macarrão em caldo à base de missô, shoyu ou sal, geralmente coberto com carne de porco, ovo e vegetais.\n",
            "* **Udon:** Macarrão grosso e mastigável servido em caldo quente ou frio com vários acompanhamentos.\n",
            "* **Soba:** Macarrão fino e escuro feito de trigo sarraceno, geralmente servido frio com um molho à base de shoyu.\n",
            "* **Donburi:** Tigela de arroz coberta com vários ingredientes, como frutos do mar, carne ou vegetais.\n",
            "* **Okonomiyaki:** Panqueca salgada feita com farinha, repolho e vários outros ingredientes.\n",
            "* **Takoyaki:** Bolas de polvo fritas servidas com molho takoyaki e maionese.\n",
            "* **Yakitori:** Espetos de frango grelhados com vários molhos.\n",
            "* **Onigiri:** Bolinhos de arroz recheados com vários ingredientes, como atum, salmão ou umeboshi.\n",
            "* **Mochi:** Bolo de arroz doce e mastigável, geralmente servido com recheios doces ou salgados.\n",
            "\n",
            "Além desses pratos principais, a culinária japonesa também é conhecida por seus acompanhamentos, como:\n",
            "\n",
            "* **Miso shiru:** Sopa de pasta de missô.\n",
            "* **Edamame:** Soja verde cozida no vapor.\n",
            "* **Tofu:** Queijo de soja.\n",
            "* **Natto:** Soja fermentada.\n",
            "* **Tsukemono:** Vegetais em conserva.\n",
            "\n",
            "A culinária japonesa é caracterizada por seu uso de ingredientes frescos, técnicas de cozimento precisas e uma apresentação artística. É uma culinária saudável e equilibrada que é apreciada em todo o mundo. \n",
            "\n",
            "Esperando prompt:Qual o idioma é falado?\n",
            "Resposta:  **Japonês**\n",
            "\n",
            "O idioma oficial e mais falado no Japão é o japonês. É uma língua única e isolada, não relacionada a nenhuma outra língua no mundo.\n",
            "\n",
            "O japonês é escrito usando uma combinação de três sistemas de escrita:\n",
            "\n",
            "* **Kanji:** Caracteres chineses adotados para o japonês.\n",
            "* **Hiragana:** Um silabário fonético usado para palavras gramaticais e palavras nativas japonesas que não têm kanji.\n",
            "* **Katakana:** Outro silabário fonético usado para palavras estrangeiras, nomes científicos e ênfase.\n",
            "\n",
            "O japonês é uma língua tonal, o que significa que o significado das palavras pode mudar dependendo do tom de voz usado. Existem dois tons principais em japonês: alto e baixo.\n",
            "\n",
            "Além do japonês, existem várias línguas minoritárias faladas no Japão, incluindo:\n",
            "\n",
            "* **Ainu:** Falado pelo povo indígena Ainu de Hokkaido.\n",
            "* **Okinawense:** Falado na Prefeitura de Okinawa.\n",
            "* **Línguas Ryukyuan:** Faladas nas ilhas Ryukyu.\n",
            "\n",
            "No entanto, essas línguas minoritárias estão em declínio e o japonês é a língua dominante em todo o país. \n",
            "\n",
            "Esperando prompt:O trem bala se localiza em qual cidade?\n",
            "Resposta:  O trem-bala no Japão, conhecido como Shinkansen, opera em várias cidades por todo o país. As principais cidades servidas pelo Shinkansen incluem:\n",
            "\n",
            "* Tóquio\n",
            "* Osaka\n",
            "* Quioto\n",
            "* Nagoya\n",
            "* Fukuoka\n",
            "* Hiroshima\n",
            "* Sendai\n",
            "* Niigata\n",
            "* Kanazawa\n",
            "* Sapporo\n",
            "\n",
            "O Shinkansen é uma rede ferroviária de alta velocidade que conecta as principais cidades do Japão. É conhecido por sua velocidade, eficiência e conforto. Os trens Shinkansen podem atingir velocidades de até 320 km/h (200 mph).\n",
            "\n",
            "Além das cidades listadas acima, o Shinkansen também para em várias outras cidades e vilas ao longo de suas rotas. Você pode encontrar horários e informações de rotas específicas no site da Japan Railways Group (JR Group), que opera o Shinkansen. \n",
            "\n",
            "Esperando prompt:Qual o preço medio da passagem do trem bala em reais?\n",
            "Resposta:  O preço médio de uma passagem de trem-bala no Japão (Shinkansen) em reais varia dependendo da distância percorrida, classe de viagem e época do ano.\n",
            "\n",
            "**Classes de Viagem:**\n",
            "\n",
            "* **Classe Standard (Ordinária):** A opção mais econômica, com assentos espaçosos e confortáveis.\n",
            "* **Classe Green Car:** Oferece assentos mais largos e reclináveis, além de outras comodidades.\n",
            "\n",
            "**Faixa de Preços (em reais):**\n",
            "\n",
            "* **Tóquio para Osaka (cerca de 515 km):**\n",
            "    * Classe Standard: R$ 350 a R$ 500\n",
            "    * Classe Green Car: R$ 600 a R$ 800\n",
            "* **Tóquio para Quioto (cerca de 500 km):**\n",
            "    * Classe Standard: R$ 300 a R$ 450\n",
            "    * Classe Green Car: R$ 500 a R$ 700\n",
            "* **Tóquio para Hiroshima (cerca de 820 km):**\n",
            "    * Classe Standard: R$ 500 a R$ 700\n",
            "    * Classe Green Car: R$ 800 a R$ 1.000\n",
            "\n",
            "**Observações:**\n",
            "\n",
            "* Os preços podem ser mais altos durante os horários de pico e feriados.\n",
            "* É possível economizar comprando um Japan Rail Pass, que oferece viagens ilimitadas no Shinkansen e em outras linhas ferroviárias por um período determinado.\n",
            "* Os preços fornecidos são aproximados e podem variar dependendo da disponibilidade e das taxas de câmbio atuais.\n",
            "\n",
            "Recomenda-se verificar os preços e horários específicos no site da Japan Railways Group (JR Group) ou com um agente de viagens antes de reservar sua passagem. \n",
            "\n",
            "Esperando prompt:Qual arte marcial existe atualmente neste pais?\n",
            "Resposta:  Existem várias artes marciais que se originaram ou são atualmente praticadas no Japão, incluindo:\n",
            "\n",
            "* **Aikido:** Uma arte marcial defensiva que enfatiza o controle do oponente usando sua própria força.\n",
            "* **Judô:** Uma arte marcial e esporte olímpico que envolve técnicas de arremesso, imobilização e estrangulamento.\n",
            "* **Karatê:** Uma arte marcial que enfatiza chutes, socos, bloqueios e golpes com as mãos abertas.\n",
            "* **Kendô:** Uma arte marcial que usa espadas de bambu (shinai) para praticar técnicas de esgrima.\n",
            "* **Kyūdō:** Uma arte marcial que envolve tiro com arco japonês.\n",
            "* **Ninjutsu:** Uma arte marcial tradicional que enfatiza espionagem, sabotagem e guerra de guerrilha.\n",
            "* **Sumô:** Um esporte de luta tradicional que envolve dois lutadores muito pesados tentando forçar um ao outro para fora de um ringue circular ou fazê-lo tocar o chão com qualquer parte do corpo além dos pés.\n",
            "\n",
            "Além dessas artes marciais tradicionais japonesas, existem também vários estilos modernos de artes marciais que foram desenvolvidos no Japão, como:\n",
            "\n",
            "* **Jujutsu:** Uma arte marcial que enfatiza técnicas de luta corpo a corpo, incluindo arremessos, imobilizações e estrangulamentos.\n",
            "* **Krav Maga:** Um sistema de autodefesa israelense que incorpora técnicas de várias artes marciais, incluindo karatê, judô e boxe.\n",
            "* **MMA (Artes Marciais Mistas):** Um esporte de combate que permite uma ampla gama de técnicas de várias artes marciais, incluindo socos, chutes, joelhadas, cotoveladas, quedas e finalizações.\n",
            "\n",
            "As artes marciais são amplamente praticadas no Japão e desempenham um papel importante na cultura do país. \n",
            "\n",
            "Esperando prompt:Quais os principais pontos turisticos?\n",
            "Resposta:  **Principais Pontos Turísticos do Japão**\n",
            "\n",
            "O Japão oferece uma ampla gama de atrações turísticas, desde templos e santuários históricos até cidades modernas e paisagens naturais deslumbrantes. Alguns dos principais pontos turísticos do Japão incluem:\n",
            "\n",
            "* **Tóquio:** A capital vibrante do Japão, conhecida por sua cultura pop, arranha-céus e vida noturna.\n",
            "* **Quioto:** Uma antiga capital imperial com numerosos templos, santuários e jardins tradicionais.\n",
            "* **Osaka:** Uma metrópole moderna conhecida por sua culinária deliciosa e vida noturna animada.\n",
            "* **Monte Fuji:** O pico mais alto do Japão e um símbolo icônico do país.\n",
            "* **Templo Senso-ji (Tóquio):** O templo budista mais antigo do Japão, localizado no movimentado bairro de Asakusa.\n",
            "* **Santuário Fushimi Inari-taisha (Quioto):** Um santuário xintoísta conhecido por seus milhares de portões vermelhos (torii).\n",
            "* **Castelo de Himeji (Himeji):** Um dos castelos mais bem preservados do Japão, conhecido como \"Castelo do Garça Branca\" devido à sua aparência elegante.\n",
            "* **Parque Nacional de Shirakawa-go (Takayama):** Uma vila tradicional com casas de fazenda com telhados de colmo que parecem ter saído de um conto de fadas.\n",
            "* **Templo Kiyomizu-dera (Quioto):** Um templo budista conhecido por seu terraço de madeira suspenso que oferece vistas panorâmicas da cidade.\n",
            "* **Mercado de Peixe de Tsukiji (Tóquio):** O maior mercado de peixe do mundo, oferecendo uma variedade impressionante de frutos do mar frescos.\n",
            "* **Museu Ghibli (Tóquio):** Um museu dedicado ao famoso estúdio de animação japonês Studio Ghibli.\n",
            "* **Torre de Tóquio:** Uma torre de comunicações que oferece vistas panorâmicas da cidade.\n",
            "* **Parque Nacional de Jigokudani (Nagano):** Um parque conhecido por seus macacos selvagens que tomam banho em fontes termais naturais.\n",
            "\n",
            "Além desses locais famosos, o Japão também oferece muitas outras atrações turísticas, como jardins botânicos, museus, galerias de arte, parques temáticos e resorts de esqui. \n",
            "\n",
            "Esperando prompt:Qual o valor da passagem em reais ida e volta?\n",
            "Resposta:  O valor da passagem de ida e volta do Brasil para o Japão em reais varia dependendo de vários fatores, como:\n",
            "\n",
            "* **Companhia aérea:** Diferentes companhias aéreas oferecem tarifas diferentes.\n",
            "* **Rota:** O preço da passagem pode variar dependendo da rota específica que você escolher.\n",
            "* **Classe de viagem:** A classe econômica é geralmente mais barata que a classe executiva ou primeira classe.\n",
            "* **Época do ano:** As passagens aéreas tendem a ser mais caras durante a alta temporada (junho a agosto e dezembro a janeiro).\n",
            "* **Disponibilidade:** As passagens aéreas podem ser mais caras se você reservar com pouca antecedência.\n",
            "\n",
            "Como uma estimativa aproximada, você pode esperar pagar entre **R$ 6.000 a R$ 12.000** por uma passagem de ida e volta do Brasil para o Japão em classe econômica.\n",
            "\n",
            "Recomenda-se verificar os preços e horários específicos com as companhias aéreas ou com um agente de viagens antes de reservar sua passagem. \n",
            "\n",
            "Esperando prompt:fim\n"
          ]
        }
      ]
    },
    {
      "cell_type": "code",
      "source": [
        "chat.history"
      ],
      "metadata": {
        "colab": {
          "base_uri": "https://localhost:8080/"
        },
        "id": "CFFklBg-rY0d",
        "outputId": "29f58b71-9d74-4ba0-de69-c5d1ae1431a2"
      },
      "execution_count": 18,
      "outputs": [
        {
          "output_type": "execute_result",
          "data": {
            "text/plain": [
              "[parts {\n",
              "   text: \"Qual a capitald o Jap\\303\\243o?\"\n",
              " }\n",
              " role: \"user\",\n",
              " parts {\n",
              "   text: \"T\\303\\263quio\"\n",
              " }\n",
              " role: \"model\",\n",
              " parts {\n",
              "   text: \"Qual a cultura desse pais?\"\n",
              " }\n",
              " role: \"user\",\n",
              " parts {\n",
              "   text: \"**Cultura Japonesa**\\n\\nA cultura japonesa \\303\\251 uma das mais ricas e fascinantes do mundo, com uma hist\\303\\263ria milenar que influenciou profundamente a arte, a literatura, a m\\303\\272sica, a culin\\303\\241ria e os costumes do pa\\303\\255s. Algumas das caracter\\303\\255sticas mais marcantes da cultura japonesa incluem:\\n\\n**Harmonia e Beleza:**\\n* Os japoneses valorizam a harmonia e a est\\303\\251tica em todas as esferas da vida, desde a arquitetura at\\303\\251 a culin\\303\\241ria.\\n* Conceitos como \\\"wabi-sabi\\\" (beleza na imperfei\\303\\247\\303\\243o) e \\\"mono no aware\\\" (a beleza da transitoriedade) s\\303\\243o fundamentais na cultura japonesa.\\n\\n**Respeito e Hierarquia:**\\n* A sociedade japonesa \\303\\251 altamente hier\\303\\241rquica, com um forte senso de respeito por aqueles que est\\303\\243o acima na escala social.\\n* Os t\\303\\255tulos e as formas de tratamento s\\303\\243o usados para indicar o status e a posi\\303\\247\\303\\243o das pessoas.\\n\\n**Tradi\\303\\247\\303\\243o e Modernidade:**\\n* O Jap\\303\\243o conseguiu preservar muitas de suas tradi\\303\\247\\303\\265es culturais enquanto abra\\303\\247ava a modernidade.\\n* Templos e santu\\303\\241rios antigos coexistem com arranha-c\\303\\251us e tecnologia de ponta.\\n\\n**Arte e Artesanato:**\\n* O Jap\\303\\243o \\303\\251 conhecido por suas formas de arte tradicionais, como pintura, caligrafia, cer\\303\\242mica e arranjos florais (ikebana).\\n* Artes\\303\\243os japoneses s\\303\\243o altamente qualificados e produzem obras de arte requintadas que s\\303\\243o apreciadas em todo o mundo.\\n\\n**Culin\\303\\241ria:**\\n* A culin\\303\\241ria japonesa \\303\\251 uma das mais diversas e deliciosas do mundo.\\n* Ingredientes frescos, t\\303\\251cnicas de cozimento precisas e uma apresenta\\303\\247\\303\\243o art\\303\\255stica s\\303\\243o caracter\\303\\255sticas da culin\\303\\241ria japonesa.\\n* Sushi, sashimi, tempura e ramen s\\303\\243o alguns dos pratos japoneses mais populares.\\n\\n**Religi\\303\\243o:**\\n* A maioria dos japoneses pratica uma mistura de xinto\\303\\255smo e budismo.\\n* O xinto\\303\\255smo \\303\\251 uma religi\\303\\243o animista que reverencia os esp\\303\\255ritos da natureza, enquanto o budismo \\303\\251 uma filosofia que enfatiza a compaix\\303\\243o e a ilumina\\303\\247\\303\\243o.\\n\\n**Hospitalidade e Cortesia:**\\n* Os japoneses s\\303\\243o conhecidos por sua hospitalidade e cortesia.\\n* Eles se esfor\\303\\247am para criar um ambiente acolhedor e respeitoso para os visitantes e convidados.\\n\\n**Outras Caracter\\303\\255sticas:**\\n* **Disciplina e Trabalho Duro:** Os japoneses s\\303\\243o conhecidos por sua disciplina e \\303\\251tica de trabalho.\\n* **Senso de Comunidade:** Os japoneses valorizam o senso de comunidade e trabalham juntos para o bem comum.\\n* **Amor pela Natureza:** Os japoneses t\\303\\252m um profundo amor pela natureza e muitas de suas tradi\\303\\247\\303\\265es culturais est\\303\\243o ligadas a ela.\"\n",
              " }\n",
              " role: \"model\",\n",
              " parts {\n",
              "   text: \"Qual a comida tipica desse pais?\"\n",
              " }\n",
              " role: \"user\",\n",
              " parts {\n",
              "   text: \"**Comida T\\303\\255pica Japonesa**\\n\\nA culin\\303\\241ria japonesa \\303\\251 uma das mais diversas e deliciosas do mundo, com uma ampla gama de pratos que v\\303\\243o desde frutos do mar frescos at\\303\\251 pratos de carne e vegetais. Alguns dos pratos japoneses mais t\\303\\255picos incluem:\\n\\n* **Sushi:** Arroz avinagrado coberto com peixe cru, frutos do mar ou vegetais.\\n* **Sashimi:** Peixe cru ou frutos do mar fatiados e servidos com molho de soja e wasabi.\\n* **Tempura:** Frutos do mar ou vegetais fritos em uma massa leve.\\n* **Ramen:** Macarr\\303\\243o em caldo \\303\\240 base de miss\\303\\264, shoyu ou sal, geralmente coberto com carne de porco, ovo e vegetais.\\n* **Udon:** Macarr\\303\\243o grosso e mastig\\303\\241vel servido em caldo quente ou frio com v\\303\\241rios acompanhamentos.\\n* **Soba:** Macarr\\303\\243o fino e escuro feito de trigo sarraceno, geralmente servido frio com um molho \\303\\240 base de shoyu.\\n* **Donburi:** Tigela de arroz coberta com v\\303\\241rios ingredientes, como frutos do mar, carne ou vegetais.\\n* **Okonomiyaki:** Panqueca salgada feita com farinha, repolho e v\\303\\241rios outros ingredientes.\\n* **Takoyaki:** Bolas de polvo fritas servidas com molho takoyaki e maionese.\\n* **Yakitori:** Espetos de frango grelhados com v\\303\\241rios molhos.\\n* **Onigiri:** Bolinhos de arroz recheados com v\\303\\241rios ingredientes, como atum, salm\\303\\243o ou umeboshi.\\n* **Mochi:** Bolo de arroz doce e mastig\\303\\241vel, geralmente servido com recheios doces ou salgados.\\n\\nAl\\303\\251m desses pratos principais, a culin\\303\\241ria japonesa tamb\\303\\251m \\303\\251 conhecida por seus acompanhamentos, como:\\n\\n* **Miso shiru:** Sopa de pasta de miss\\303\\264.\\n* **Edamame:** Soja verde cozida no vapor.\\n* **Tofu:** Queijo de soja.\\n* **Natto:** Soja fermentada.\\n* **Tsukemono:** Vegetais em conserva.\\n\\nA culin\\303\\241ria japonesa \\303\\251 caracterizada por seu uso de ingredientes frescos, t\\303\\251cnicas de cozimento precisas e uma apresenta\\303\\247\\303\\243o art\\303\\255stica. \\303\\211 uma culin\\303\\241ria saud\\303\\241vel e equilibrada que \\303\\251 apreciada em todo o mundo.\"\n",
              " }\n",
              " role: \"model\",\n",
              " parts {\n",
              "   text: \"Qual o idioma \\303\\251 falado?\"\n",
              " }\n",
              " role: \"user\",\n",
              " parts {\n",
              "   text: \"**Japon\\303\\252s**\\n\\nO idioma oficial e mais falado no Jap\\303\\243o \\303\\251 o japon\\303\\252s. \\303\\211 uma l\\303\\255ngua \\303\\272nica e isolada, n\\303\\243o relacionada a nenhuma outra l\\303\\255ngua no mundo.\\n\\nO japon\\303\\252s \\303\\251 escrito usando uma combina\\303\\247\\303\\243o de tr\\303\\252s sistemas de escrita:\\n\\n* **Kanji:** Caracteres chineses adotados para o japon\\303\\252s.\\n* **Hiragana:** Um silab\\303\\241rio fon\\303\\251tico usado para palavras gramaticais e palavras nativas japonesas que n\\303\\243o t\\303\\252m kanji.\\n* **Katakana:** Outro silab\\303\\241rio fon\\303\\251tico usado para palavras estrangeiras, nomes cient\\303\\255ficos e \\303\\252nfase.\\n\\nO japon\\303\\252s \\303\\251 uma l\\303\\255ngua tonal, o que significa que o significado das palavras pode mudar dependendo do tom de voz usado. Existem dois tons principais em japon\\303\\252s: alto e baixo.\\n\\nAl\\303\\251m do japon\\303\\252s, existem v\\303\\241rias l\\303\\255nguas minorit\\303\\241rias faladas no Jap\\303\\243o, incluindo:\\n\\n* **Ainu:** Falado pelo povo ind\\303\\255gena Ainu de Hokkaido.\\n* **Okinawense:** Falado na Prefeitura de Okinawa.\\n* **L\\303\\255nguas Ryukyuan:** Faladas nas ilhas Ryukyu.\\n\\nNo entanto, essas l\\303\\255nguas minorit\\303\\241rias est\\303\\243o em decl\\303\\255nio e o japon\\303\\252s \\303\\251 a l\\303\\255ngua dominante em todo o pa\\303\\255s.\"\n",
              " }\n",
              " role: \"model\",\n",
              " parts {\n",
              "   text: \"O trem bala se localiza em qual cidade?\"\n",
              " }\n",
              " role: \"user\",\n",
              " parts {\n",
              "   text: \"O trem-bala no Jap\\303\\243o, conhecido como Shinkansen, opera em v\\303\\241rias cidades por todo o pa\\303\\255s. As principais cidades servidas pelo Shinkansen incluem:\\n\\n* T\\303\\263quio\\n* Osaka\\n* Quioto\\n* Nagoya\\n* Fukuoka\\n* Hiroshima\\n* Sendai\\n* Niigata\\n* Kanazawa\\n* Sapporo\\n\\nO Shinkansen \\303\\251 uma rede ferrovi\\303\\241ria de alta velocidade que conecta as principais cidades do Jap\\303\\243o. \\303\\211 conhecido por sua velocidade, efici\\303\\252ncia e conforto. Os trens Shinkansen podem atingir velocidades de at\\303\\251 320 km/h (200 mph).\\n\\nAl\\303\\251m das cidades listadas acima, o Shinkansen tamb\\303\\251m para em v\\303\\241rias outras cidades e vilas ao longo de suas rotas. Voc\\303\\252 pode encontrar hor\\303\\241rios e informa\\303\\247\\303\\265es de rotas espec\\303\\255ficas no site da Japan Railways Group (JR Group), que opera o Shinkansen.\"\n",
              " }\n",
              " role: \"model\",\n",
              " parts {\n",
              "   text: \"Qual o pre\\303\\247o medio da passagem do trem bala em reais?\"\n",
              " }\n",
              " role: \"user\",\n",
              " parts {\n",
              "   text: \"O pre\\303\\247o m\\303\\251dio de uma passagem de trem-bala no Jap\\303\\243o (Shinkansen) em reais varia dependendo da dist\\303\\242ncia percorrida, classe de viagem e \\303\\251poca do ano.\\n\\n**Classes de Viagem:**\\n\\n* **Classe Standard (Ordin\\303\\241ria):** A op\\303\\247\\303\\243o mais econ\\303\\264mica, com assentos espa\\303\\247osos e confort\\303\\241veis.\\n* **Classe Green Car:** Oferece assentos mais largos e reclin\\303\\241veis, al\\303\\251m de outras comodidades.\\n\\n**Faixa de Pre\\303\\247os (em reais):**\\n\\n* **T\\303\\263quio para Osaka (cerca de 515 km):**\\n    * Classe Standard: R$ 350 a R$ 500\\n    * Classe Green Car: R$ 600 a R$ 800\\n* **T\\303\\263quio para Quioto (cerca de 500 km):**\\n    * Classe Standard: R$ 300 a R$ 450\\n    * Classe Green Car: R$ 500 a R$ 700\\n* **T\\303\\263quio para Hiroshima (cerca de 820 km):**\\n    * Classe Standard: R$ 500 a R$ 700\\n    * Classe Green Car: R$ 800 a R$ 1.000\\n\\n**Observa\\303\\247\\303\\265es:**\\n\\n* Os pre\\303\\247os podem ser mais altos durante os hor\\303\\241rios de pico e feriados.\\n* \\303\\211 poss\\303\\255vel economizar comprando um Japan Rail Pass, que oferece viagens ilimitadas no Shinkansen e em outras linhas ferrovi\\303\\241rias por um per\\303\\255odo determinado.\\n* Os pre\\303\\247os fornecidos s\\303\\243o aproximados e podem variar dependendo da disponibilidade e das taxas de c\\303\\242mbio atuais.\\n\\nRecomenda-se verificar os pre\\303\\247os e hor\\303\\241rios espec\\303\\255ficos no site da Japan Railways Group (JR Group) ou com um agente de viagens antes de reservar sua passagem.\"\n",
              " }\n",
              " role: \"model\",\n",
              " parts {\n",
              "   text: \"Qual arte marcial existe atualmente neste pais?\"\n",
              " }\n",
              " role: \"user\",\n",
              " parts {\n",
              "   text: \"Existem v\\303\\241rias artes marciais que se originaram ou s\\303\\243o atualmente praticadas no Jap\\303\\243o, incluindo:\\n\\n* **Aikido:** Uma arte marcial defensiva que enfatiza o controle do oponente usando sua pr\\303\\263pria for\\303\\247a.\\n* **Jud\\303\\264:** Uma arte marcial e esporte ol\\303\\255mpico que envolve t\\303\\251cnicas de arremesso, imobiliza\\303\\247\\303\\243o e estrangulamento.\\n* **Karat\\303\\252:** Uma arte marcial que enfatiza chutes, socos, bloqueios e golpes com as m\\303\\243os abertas.\\n* **Kend\\303\\264:** Uma arte marcial que usa espadas de bambu (shinai) para praticar t\\303\\251cnicas de esgrima.\\n* **Ky\\305\\253d\\305\\215:** Uma arte marcial que envolve tiro com arco japon\\303\\252s.\\n* **Ninjutsu:** Uma arte marcial tradicional que enfatiza espionagem, sabotagem e guerra de guerrilha.\\n* **Sum\\303\\264:** Um esporte de luta tradicional que envolve dois lutadores muito pesados tentando for\\303\\247ar um ao outro para fora de um ringue circular ou faz\\303\\252-lo tocar o ch\\303\\243o com qualquer parte do corpo al\\303\\251m dos p\\303\\251s.\\n\\nAl\\303\\251m dessas artes marciais tradicionais japonesas, existem tamb\\303\\251m v\\303\\241rios estilos modernos de artes marciais que foram desenvolvidos no Jap\\303\\243o, como:\\n\\n* **Jujutsu:** Uma arte marcial que enfatiza t\\303\\251cnicas de luta corpo a corpo, incluindo arremessos, imobiliza\\303\\247\\303\\265es e estrangulamentos.\\n* **Krav Maga:** Um sistema de autodefesa israelense que incorpora t\\303\\251cnicas de v\\303\\241rias artes marciais, incluindo karat\\303\\252, jud\\303\\264 e boxe.\\n* **MMA (Artes Marciais Mistas):** Um esporte de combate que permite uma ampla gama de t\\303\\251cnicas de v\\303\\241rias artes marciais, incluindo socos, chutes, joelhadas, cotoveladas, quedas e finaliza\\303\\247\\303\\265es.\\n\\nAs artes marciais s\\303\\243o amplamente praticadas no Jap\\303\\243o e desempenham um papel importante na cultura do pa\\303\\255s.\"\n",
              " }\n",
              " role: \"model\",\n",
              " parts {\n",
              "   text: \"Quais os principais pontos turisticos?\"\n",
              " }\n",
              " role: \"user\",\n",
              " parts {\n",
              "   text: \"**Principais Pontos Tur\\303\\255sticos do Jap\\303\\243o**\\n\\nO Jap\\303\\243o oferece uma ampla gama de atra\\303\\247\\303\\265es tur\\303\\255sticas, desde templos e santu\\303\\241rios hist\\303\\263ricos at\\303\\251 cidades modernas e paisagens naturais deslumbrantes. Alguns dos principais pontos tur\\303\\255sticos do Jap\\303\\243o incluem:\\n\\n* **T\\303\\263quio:** A capital vibrante do Jap\\303\\243o, conhecida por sua cultura pop, arranha-c\\303\\251us e vida noturna.\\n* **Quioto:** Uma antiga capital imperial com numerosos templos, santu\\303\\241rios e jardins tradicionais.\\n* **Osaka:** Uma metr\\303\\263pole moderna conhecida por sua culin\\303\\241ria deliciosa e vida noturna animada.\\n* **Monte Fuji:** O pico mais alto do Jap\\303\\243o e um s\\303\\255mbolo ic\\303\\264nico do pa\\303\\255s.\\n* **Templo Senso-ji (T\\303\\263quio):** O templo budista mais antigo do Jap\\303\\243o, localizado no movimentado bairro de Asakusa.\\n* **Santu\\303\\241rio Fushimi Inari-taisha (Quioto):** Um santu\\303\\241rio xinto\\303\\255sta conhecido por seus milhares de port\\303\\265es vermelhos (torii).\\n* **Castelo de Himeji (Himeji):** Um dos castelos mais bem preservados do Jap\\303\\243o, conhecido como \\\"Castelo do Gar\\303\\247a Branca\\\" devido \\303\\240 sua apar\\303\\252ncia elegante.\\n* **Parque Nacional de Shirakawa-go (Takayama):** Uma vila tradicional com casas de fazenda com telhados de colmo que parecem ter sa\\303\\255do de um conto de fadas.\\n* **Templo Kiyomizu-dera (Quioto):** Um templo budista conhecido por seu terra\\303\\247o de madeira suspenso que oferece vistas panor\\303\\242micas da cidade.\\n* **Mercado de Peixe de Tsukiji (T\\303\\263quio):** O maior mercado de peixe do mundo, oferecendo uma variedade impressionante de frutos do mar frescos.\\n* **Museu Ghibli (T\\303\\263quio):** Um museu dedicado ao famoso est\\303\\272dio de anima\\303\\247\\303\\243o japon\\303\\252s Studio Ghibli.\\n* **Torre de T\\303\\263quio:** Uma torre de comunica\\303\\247\\303\\265es que oferece vistas panor\\303\\242micas da cidade.\\n* **Parque Nacional de Jigokudani (Nagano):** Um parque conhecido por seus macacos selvagens que tomam banho em fontes termais naturais.\\n\\nAl\\303\\251m desses locais famosos, o Jap\\303\\243o tamb\\303\\251m oferece muitas outras atra\\303\\247\\303\\265es tur\\303\\255sticas, como jardins bot\\303\\242nicos, museus, galerias de arte, parques tem\\303\\241ticos e resorts de esqui.\"\n",
              " }\n",
              " role: \"model\",\n",
              " parts {\n",
              "   text: \"Qual o valor da passagem em reais ida e volta?\"\n",
              " }\n",
              " role: \"user\",\n",
              " parts {\n",
              "   text: \"O valor da passagem de ida e volta do Brasil para o Jap\\303\\243o em reais varia dependendo de v\\303\\241rios fatores, como:\\n\\n* **Companhia a\\303\\251rea:** Diferentes companhias a\\303\\251reas oferecem tarifas diferentes.\\n* **Rota:** O pre\\303\\247o da passagem pode variar dependendo da rota espec\\303\\255fica que voc\\303\\252 escolher.\\n* **Classe de viagem:** A classe econ\\303\\264mica \\303\\251 geralmente mais barata que a classe executiva ou primeira classe.\\n* **\\303\\211poca do ano:** As passagens a\\303\\251reas tendem a ser mais caras durante a alta temporada (junho a agosto e dezembro a janeiro).\\n* **Disponibilidade:** As passagens a\\303\\251reas podem ser mais caras se voc\\303\\252 reservar com pouca anteced\\303\\252ncia.\\n\\nComo uma estimativa aproximada, voc\\303\\252 pode esperar pagar entre **R$ 6.000 a R$ 12.000** por uma passagem de ida e volta do Brasil para o Jap\\303\\243o em classe econ\\303\\264mica.\\n\\nRecomenda-se verificar os pre\\303\\247os e hor\\303\\241rios espec\\303\\255ficos com as companhias a\\303\\251reas ou com um agente de viagens antes de reservar sua passagem.\"\n",
              " }\n",
              " role: \"model\"]"
            ]
          },
          "metadata": {},
          "execution_count": 18
        }
      ]
    },
    {
      "cell_type": "code",
      "source": [
        "#Melhorando a visualização\n",
        "#Código disponível em https://ai.google.dev/tutorials/python_quickstart#import_packages\n",
        "import textwrap\n",
        "from IPython.display import display\n",
        "from IPython.display import Markdown\n",
        "\n",
        "def to_markdown(text):\n",
        "  text = text.replace('•', '  *')\n",
        "  return Markdown(textwrap.indent(text, '> ', predicate=lambda _: True))\n",
        "\n",
        "#Imprimindo o histórico\n",
        "for message in chat.history:\n",
        "  display(to_markdown(f'**{message.role}**: {message.parts[0].text}'))\n",
        "  print('-------------------------------------------')"
      ],
      "metadata": {
        "colab": {
          "base_uri": "https://localhost:8080/",
          "height": 1000
        },
        "id": "8bPyMKfPr5T0",
        "outputId": "1b535f62-4df3-4810-f824-00c5f57bc12a"
      },
      "execution_count": 19,
      "outputs": [
        {
          "output_type": "display_data",
          "data": {
            "text/plain": [
              "<IPython.core.display.Markdown object>"
            ],
            "text/markdown": "> **user**: Qual a capitald o Japão?"
          },
          "metadata": {}
        },
        {
          "output_type": "stream",
          "name": "stdout",
          "text": [
            "-------------------------------------------\n"
          ]
        },
        {
          "output_type": "display_data",
          "data": {
            "text/plain": [
              "<IPython.core.display.Markdown object>"
            ],
            "text/markdown": "> **model**: Tóquio"
          },
          "metadata": {}
        },
        {
          "output_type": "stream",
          "name": "stdout",
          "text": [
            "-------------------------------------------\n"
          ]
        },
        {
          "output_type": "display_data",
          "data": {
            "text/plain": [
              "<IPython.core.display.Markdown object>"
            ],
            "text/markdown": "> **user**: Qual a cultura desse pais?"
          },
          "metadata": {}
        },
        {
          "output_type": "stream",
          "name": "stdout",
          "text": [
            "-------------------------------------------\n"
          ]
        },
        {
          "output_type": "display_data",
          "data": {
            "text/plain": [
              "<IPython.core.display.Markdown object>"
            ],
            "text/markdown": "> **model**: **Cultura Japonesa**\n> \n> A cultura japonesa é uma das mais ricas e fascinantes do mundo, com uma história milenar que influenciou profundamente a arte, a literatura, a música, a culinária e os costumes do país. Algumas das características mais marcantes da cultura japonesa incluem:\n> \n> **Harmonia e Beleza:**\n> * Os japoneses valorizam a harmonia e a estética em todas as esferas da vida, desde a arquitetura até a culinária.\n> * Conceitos como \"wabi-sabi\" (beleza na imperfeição) e \"mono no aware\" (a beleza da transitoriedade) são fundamentais na cultura japonesa.\n> \n> **Respeito e Hierarquia:**\n> * A sociedade japonesa é altamente hierárquica, com um forte senso de respeito por aqueles que estão acima na escala social.\n> * Os títulos e as formas de tratamento são usados para indicar o status e a posição das pessoas.\n> \n> **Tradição e Modernidade:**\n> * O Japão conseguiu preservar muitas de suas tradições culturais enquanto abraçava a modernidade.\n> * Templos e santuários antigos coexistem com arranha-céus e tecnologia de ponta.\n> \n> **Arte e Artesanato:**\n> * O Japão é conhecido por suas formas de arte tradicionais, como pintura, caligrafia, cerâmica e arranjos florais (ikebana).\n> * Artesãos japoneses são altamente qualificados e produzem obras de arte requintadas que são apreciadas em todo o mundo.\n> \n> **Culinária:**\n> * A culinária japonesa é uma das mais diversas e deliciosas do mundo.\n> * Ingredientes frescos, técnicas de cozimento precisas e uma apresentação artística são características da culinária japonesa.\n> * Sushi, sashimi, tempura e ramen são alguns dos pratos japoneses mais populares.\n> \n> **Religião:**\n> * A maioria dos japoneses pratica uma mistura de xintoísmo e budismo.\n> * O xintoísmo é uma religião animista que reverencia os espíritos da natureza, enquanto o budismo é uma filosofia que enfatiza a compaixão e a iluminação.\n> \n> **Hospitalidade e Cortesia:**\n> * Os japoneses são conhecidos por sua hospitalidade e cortesia.\n> * Eles se esforçam para criar um ambiente acolhedor e respeitoso para os visitantes e convidados.\n> \n> **Outras Características:**\n> * **Disciplina e Trabalho Duro:** Os japoneses são conhecidos por sua disciplina e ética de trabalho.\n> * **Senso de Comunidade:** Os japoneses valorizam o senso de comunidade e trabalham juntos para o bem comum.\n> * **Amor pela Natureza:** Os japoneses têm um profundo amor pela natureza e muitas de suas tradições culturais estão ligadas a ela."
          },
          "metadata": {}
        },
        {
          "output_type": "stream",
          "name": "stdout",
          "text": [
            "-------------------------------------------\n"
          ]
        },
        {
          "output_type": "display_data",
          "data": {
            "text/plain": [
              "<IPython.core.display.Markdown object>"
            ],
            "text/markdown": "> **user**: Qual a comida tipica desse pais?"
          },
          "metadata": {}
        },
        {
          "output_type": "stream",
          "name": "stdout",
          "text": [
            "-------------------------------------------\n"
          ]
        },
        {
          "output_type": "display_data",
          "data": {
            "text/plain": [
              "<IPython.core.display.Markdown object>"
            ],
            "text/markdown": "> **model**: **Comida Típica Japonesa**\n> \n> A culinária japonesa é uma das mais diversas e deliciosas do mundo, com uma ampla gama de pratos que vão desde frutos do mar frescos até pratos de carne e vegetais. Alguns dos pratos japoneses mais típicos incluem:\n> \n> * **Sushi:** Arroz avinagrado coberto com peixe cru, frutos do mar ou vegetais.\n> * **Sashimi:** Peixe cru ou frutos do mar fatiados e servidos com molho de soja e wasabi.\n> * **Tempura:** Frutos do mar ou vegetais fritos em uma massa leve.\n> * **Ramen:** Macarrão em caldo à base de missô, shoyu ou sal, geralmente coberto com carne de porco, ovo e vegetais.\n> * **Udon:** Macarrão grosso e mastigável servido em caldo quente ou frio com vários acompanhamentos.\n> * **Soba:** Macarrão fino e escuro feito de trigo sarraceno, geralmente servido frio com um molho à base de shoyu.\n> * **Donburi:** Tigela de arroz coberta com vários ingredientes, como frutos do mar, carne ou vegetais.\n> * **Okonomiyaki:** Panqueca salgada feita com farinha, repolho e vários outros ingredientes.\n> * **Takoyaki:** Bolas de polvo fritas servidas com molho takoyaki e maionese.\n> * **Yakitori:** Espetos de frango grelhados com vários molhos.\n> * **Onigiri:** Bolinhos de arroz recheados com vários ingredientes, como atum, salmão ou umeboshi.\n> * **Mochi:** Bolo de arroz doce e mastigável, geralmente servido com recheios doces ou salgados.\n> \n> Além desses pratos principais, a culinária japonesa também é conhecida por seus acompanhamentos, como:\n> \n> * **Miso shiru:** Sopa de pasta de missô.\n> * **Edamame:** Soja verde cozida no vapor.\n> * **Tofu:** Queijo de soja.\n> * **Natto:** Soja fermentada.\n> * **Tsukemono:** Vegetais em conserva.\n> \n> A culinária japonesa é caracterizada por seu uso de ingredientes frescos, técnicas de cozimento precisas e uma apresentação artística. É uma culinária saudável e equilibrada que é apreciada em todo o mundo."
          },
          "metadata": {}
        },
        {
          "output_type": "stream",
          "name": "stdout",
          "text": [
            "-------------------------------------------\n"
          ]
        },
        {
          "output_type": "display_data",
          "data": {
            "text/plain": [
              "<IPython.core.display.Markdown object>"
            ],
            "text/markdown": "> **user**: Qual o idioma é falado?"
          },
          "metadata": {}
        },
        {
          "output_type": "stream",
          "name": "stdout",
          "text": [
            "-------------------------------------------\n"
          ]
        },
        {
          "output_type": "display_data",
          "data": {
            "text/plain": [
              "<IPython.core.display.Markdown object>"
            ],
            "text/markdown": "> **model**: **Japonês**\n> \n> O idioma oficial e mais falado no Japão é o japonês. É uma língua única e isolada, não relacionada a nenhuma outra língua no mundo.\n> \n> O japonês é escrito usando uma combinação de três sistemas de escrita:\n> \n> * **Kanji:** Caracteres chineses adotados para o japonês.\n> * **Hiragana:** Um silabário fonético usado para palavras gramaticais e palavras nativas japonesas que não têm kanji.\n> * **Katakana:** Outro silabário fonético usado para palavras estrangeiras, nomes científicos e ênfase.\n> \n> O japonês é uma língua tonal, o que significa que o significado das palavras pode mudar dependendo do tom de voz usado. Existem dois tons principais em japonês: alto e baixo.\n> \n> Além do japonês, existem várias línguas minoritárias faladas no Japão, incluindo:\n> \n> * **Ainu:** Falado pelo povo indígena Ainu de Hokkaido.\n> * **Okinawense:** Falado na Prefeitura de Okinawa.\n> * **Línguas Ryukyuan:** Faladas nas ilhas Ryukyu.\n> \n> No entanto, essas línguas minoritárias estão em declínio e o japonês é a língua dominante em todo o país."
          },
          "metadata": {}
        },
        {
          "output_type": "stream",
          "name": "stdout",
          "text": [
            "-------------------------------------------\n"
          ]
        },
        {
          "output_type": "display_data",
          "data": {
            "text/plain": [
              "<IPython.core.display.Markdown object>"
            ],
            "text/markdown": "> **user**: O trem bala se localiza em qual cidade?"
          },
          "metadata": {}
        },
        {
          "output_type": "stream",
          "name": "stdout",
          "text": [
            "-------------------------------------------\n"
          ]
        },
        {
          "output_type": "display_data",
          "data": {
            "text/plain": [
              "<IPython.core.display.Markdown object>"
            ],
            "text/markdown": "> **model**: O trem-bala no Japão, conhecido como Shinkansen, opera em várias cidades por todo o país. As principais cidades servidas pelo Shinkansen incluem:\n> \n> * Tóquio\n> * Osaka\n> * Quioto\n> * Nagoya\n> * Fukuoka\n> * Hiroshima\n> * Sendai\n> * Niigata\n> * Kanazawa\n> * Sapporo\n> \n> O Shinkansen é uma rede ferroviária de alta velocidade que conecta as principais cidades do Japão. É conhecido por sua velocidade, eficiência e conforto. Os trens Shinkansen podem atingir velocidades de até 320 km/h (200 mph).\n> \n> Além das cidades listadas acima, o Shinkansen também para em várias outras cidades e vilas ao longo de suas rotas. Você pode encontrar horários e informações de rotas específicas no site da Japan Railways Group (JR Group), que opera o Shinkansen."
          },
          "metadata": {}
        },
        {
          "output_type": "stream",
          "name": "stdout",
          "text": [
            "-------------------------------------------\n"
          ]
        },
        {
          "output_type": "display_data",
          "data": {
            "text/plain": [
              "<IPython.core.display.Markdown object>"
            ],
            "text/markdown": "> **user**: Qual o preço medio da passagem do trem bala em reais?"
          },
          "metadata": {}
        },
        {
          "output_type": "stream",
          "name": "stdout",
          "text": [
            "-------------------------------------------\n"
          ]
        },
        {
          "output_type": "display_data",
          "data": {
            "text/plain": [
              "<IPython.core.display.Markdown object>"
            ],
            "text/markdown": "> **model**: O preço médio de uma passagem de trem-bala no Japão (Shinkansen) em reais varia dependendo da distância percorrida, classe de viagem e época do ano.\n> \n> **Classes de Viagem:**\n> \n> * **Classe Standard (Ordinária):** A opção mais econômica, com assentos espaçosos e confortáveis.\n> * **Classe Green Car:** Oferece assentos mais largos e reclináveis, além de outras comodidades.\n> \n> **Faixa de Preços (em reais):**\n> \n> * **Tóquio para Osaka (cerca de 515 km):**\n>     * Classe Standard: R$ 350 a R$ 500\n>     * Classe Green Car: R$ 600 a R$ 800\n> * **Tóquio para Quioto (cerca de 500 km):**\n>     * Classe Standard: R$ 300 a R$ 450\n>     * Classe Green Car: R$ 500 a R$ 700\n> * **Tóquio para Hiroshima (cerca de 820 km):**\n>     * Classe Standard: R$ 500 a R$ 700\n>     * Classe Green Car: R$ 800 a R$ 1.000\n> \n> **Observações:**\n> \n> * Os preços podem ser mais altos durante os horários de pico e feriados.\n> * É possível economizar comprando um Japan Rail Pass, que oferece viagens ilimitadas no Shinkansen e em outras linhas ferroviárias por um período determinado.\n> * Os preços fornecidos são aproximados e podem variar dependendo da disponibilidade e das taxas de câmbio atuais.\n> \n> Recomenda-se verificar os preços e horários específicos no site da Japan Railways Group (JR Group) ou com um agente de viagens antes de reservar sua passagem."
          },
          "metadata": {}
        },
        {
          "output_type": "stream",
          "name": "stdout",
          "text": [
            "-------------------------------------------\n"
          ]
        },
        {
          "output_type": "display_data",
          "data": {
            "text/plain": [
              "<IPython.core.display.Markdown object>"
            ],
            "text/markdown": "> **user**: Qual arte marcial existe atualmente neste pais?"
          },
          "metadata": {}
        },
        {
          "output_type": "stream",
          "name": "stdout",
          "text": [
            "-------------------------------------------\n"
          ]
        },
        {
          "output_type": "display_data",
          "data": {
            "text/plain": [
              "<IPython.core.display.Markdown object>"
            ],
            "text/markdown": "> **model**: Existem várias artes marciais que se originaram ou são atualmente praticadas no Japão, incluindo:\n> \n> * **Aikido:** Uma arte marcial defensiva que enfatiza o controle do oponente usando sua própria força.\n> * **Judô:** Uma arte marcial e esporte olímpico que envolve técnicas de arremesso, imobilização e estrangulamento.\n> * **Karatê:** Uma arte marcial que enfatiza chutes, socos, bloqueios e golpes com as mãos abertas.\n> * **Kendô:** Uma arte marcial que usa espadas de bambu (shinai) para praticar técnicas de esgrima.\n> * **Kyūdō:** Uma arte marcial que envolve tiro com arco japonês.\n> * **Ninjutsu:** Uma arte marcial tradicional que enfatiza espionagem, sabotagem e guerra de guerrilha.\n> * **Sumô:** Um esporte de luta tradicional que envolve dois lutadores muito pesados tentando forçar um ao outro para fora de um ringue circular ou fazê-lo tocar o chão com qualquer parte do corpo além dos pés.\n> \n> Além dessas artes marciais tradicionais japonesas, existem também vários estilos modernos de artes marciais que foram desenvolvidos no Japão, como:\n> \n> * **Jujutsu:** Uma arte marcial que enfatiza técnicas de luta corpo a corpo, incluindo arremessos, imobilizações e estrangulamentos.\n> * **Krav Maga:** Um sistema de autodefesa israelense que incorpora técnicas de várias artes marciais, incluindo karatê, judô e boxe.\n> * **MMA (Artes Marciais Mistas):** Um esporte de combate que permite uma ampla gama de técnicas de várias artes marciais, incluindo socos, chutes, joelhadas, cotoveladas, quedas e finalizações.\n> \n> As artes marciais são amplamente praticadas no Japão e desempenham um papel importante na cultura do país."
          },
          "metadata": {}
        },
        {
          "output_type": "stream",
          "name": "stdout",
          "text": [
            "-------------------------------------------\n"
          ]
        },
        {
          "output_type": "display_data",
          "data": {
            "text/plain": [
              "<IPython.core.display.Markdown object>"
            ],
            "text/markdown": "> **user**: Quais os principais pontos turisticos?"
          },
          "metadata": {}
        },
        {
          "output_type": "stream",
          "name": "stdout",
          "text": [
            "-------------------------------------------\n"
          ]
        },
        {
          "output_type": "display_data",
          "data": {
            "text/plain": [
              "<IPython.core.display.Markdown object>"
            ],
            "text/markdown": "> **model**: **Principais Pontos Turísticos do Japão**\n> \n> O Japão oferece uma ampla gama de atrações turísticas, desde templos e santuários históricos até cidades modernas e paisagens naturais deslumbrantes. Alguns dos principais pontos turísticos do Japão incluem:\n> \n> * **Tóquio:** A capital vibrante do Japão, conhecida por sua cultura pop, arranha-céus e vida noturna.\n> * **Quioto:** Uma antiga capital imperial com numerosos templos, santuários e jardins tradicionais.\n> * **Osaka:** Uma metrópole moderna conhecida por sua culinária deliciosa e vida noturna animada.\n> * **Monte Fuji:** O pico mais alto do Japão e um símbolo icônico do país.\n> * **Templo Senso-ji (Tóquio):** O templo budista mais antigo do Japão, localizado no movimentado bairro de Asakusa.\n> * **Santuário Fushimi Inari-taisha (Quioto):** Um santuário xintoísta conhecido por seus milhares de portões vermelhos (torii).\n> * **Castelo de Himeji (Himeji):** Um dos castelos mais bem preservados do Japão, conhecido como \"Castelo do Garça Branca\" devido à sua aparência elegante.\n> * **Parque Nacional de Shirakawa-go (Takayama):** Uma vila tradicional com casas de fazenda com telhados de colmo que parecem ter saído de um conto de fadas.\n> * **Templo Kiyomizu-dera (Quioto):** Um templo budista conhecido por seu terraço de madeira suspenso que oferece vistas panorâmicas da cidade.\n> * **Mercado de Peixe de Tsukiji (Tóquio):** O maior mercado de peixe do mundo, oferecendo uma variedade impressionante de frutos do mar frescos.\n> * **Museu Ghibli (Tóquio):** Um museu dedicado ao famoso estúdio de animação japonês Studio Ghibli.\n> * **Torre de Tóquio:** Uma torre de comunicações que oferece vistas panorâmicas da cidade.\n> * **Parque Nacional de Jigokudani (Nagano):** Um parque conhecido por seus macacos selvagens que tomam banho em fontes termais naturais.\n> \n> Além desses locais famosos, o Japão também oferece muitas outras atrações turísticas, como jardins botânicos, museus, galerias de arte, parques temáticos e resorts de esqui."
          },
          "metadata": {}
        },
        {
          "output_type": "stream",
          "name": "stdout",
          "text": [
            "-------------------------------------------\n"
          ]
        },
        {
          "output_type": "display_data",
          "data": {
            "text/plain": [
              "<IPython.core.display.Markdown object>"
            ],
            "text/markdown": "> **user**: Qual o valor da passagem em reais ida e volta?"
          },
          "metadata": {}
        },
        {
          "output_type": "stream",
          "name": "stdout",
          "text": [
            "-------------------------------------------\n"
          ]
        },
        {
          "output_type": "display_data",
          "data": {
            "text/plain": [
              "<IPython.core.display.Markdown object>"
            ],
            "text/markdown": "> **model**: O valor da passagem de ida e volta do Brasil para o Japão em reais varia dependendo de vários fatores, como:\n> \n> * **Companhia aérea:** Diferentes companhias aéreas oferecem tarifas diferentes.\n> * **Rota:** O preço da passagem pode variar dependendo da rota específica que você escolher.\n> * **Classe de viagem:** A classe econômica é geralmente mais barata que a classe executiva ou primeira classe.\n> * **Época do ano:** As passagens aéreas tendem a ser mais caras durante a alta temporada (junho a agosto e dezembro a janeiro).\n> * **Disponibilidade:** As passagens aéreas podem ser mais caras se você reservar com pouca antecedência.\n> \n> Como uma estimativa aproximada, você pode esperar pagar entre **R$ 6.000 a R$ 12.000** por uma passagem de ida e volta do Brasil para o Japão em classe econômica.\n> \n> Recomenda-se verificar os preços e horários específicos com as companhias aéreas ou com um agente de viagens antes de reservar sua passagem."
          },
          "metadata": {}
        },
        {
          "output_type": "stream",
          "name": "stdout",
          "text": [
            "-------------------------------------------\n"
          ]
        }
      ]
    }
  ]
}